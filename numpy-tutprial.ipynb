{
 "cells": [
  {
   "cell_type": "markdown",
   "metadata": {
    "id": "lVKzS2vllZiD"
   },
   "source": [
    "To initiate **bash** session"
   ]
  },
  {
   "cell_type": "code",
   "execution_count": null,
   "metadata": {
    "id": "rGd_kyppzWFN"
   },
   "outputs": [],
   "source": [
    "!bash"
   ]
  },
  {
   "cell_type": "markdown",
   "metadata": {
    "id": "caLFeRWalnie"
   },
   "source": [
    "Import numpy library"
   ]
  },
  {
   "cell_type": "code",
   "execution_count": 15,
   "metadata": {
    "id": "hKWcFCnampmW"
   },
   "outputs": [],
   "source": [
    "import numpy as np\n",
    "from matplotlib import pyplot as plt\n",
    "# import cv2 as cv\n",
    "# from google.colab.patches import cv2_imshow"
   ]
  },
  {
   "cell_type": "markdown",
   "metadata": {
    "id": "OLgTnaEzlrNw"
   },
   "source": [
    "Basic operation in numpy"
   ]
  },
  {
   "cell_type": "code",
   "execution_count": null,
   "metadata": {
    "colab": {
     "base_uri": "https://localhost:8080/"
    },
    "executionInfo": {
     "elapsed": 47,
     "status": "ok",
     "timestamp": 1700899229924,
     "user": {
      "displayName": "Shivam Shah",
      "userId": "12797515641657687538"
     },
     "user_tz": -330
    },
    "id": "b2etCn4Jmxtp",
    "outputId": "ad7acac7-9633-4c71-ad6d-273ef44d8272"
   },
   "outputs": [
    {
     "name": "stdout",
     "output_type": "stream",
     "text": [
      "[1 2 3]\n",
      "[[ 2.    4.   -2.  ]\n",
      " [ 4.5   5.    2.23]]\n"
     ]
    }
   ],
   "source": [
    "# 1D array\n",
    "a = np.array([1, 2, 3], dtype='int16')\n",
    "print(a)\n",
    "\n",
    "# 2D array\n",
    "b = np.array([\n",
    "    [2, 4, -2.0],\n",
    "    [4.5, 5.0, 2.23]\n",
    "])\n",
    "print(b)"
   ]
  },
  {
   "cell_type": "code",
   "execution_count": null,
   "metadata": {
    "colab": {
     "base_uri": "https://localhost:8080/"
    },
    "executionInfo": {
     "elapsed": 45,
     "status": "ok",
     "timestamp": 1700899229926,
     "user": {
      "displayName": "Shivam Shah",
      "userId": "12797515641657687538"
     },
     "user_tz": -330
    },
    "id": "dZz-v_QVuejW",
    "outputId": "421531b6-881e-4af8-e889-56a340c32ff8"
   },
   "outputs": [
    {
     "name": "stdout",
     "output_type": "stream",
     "text": [
      "Dimension of a = 1 b = 2\n",
      "Shape of a = (3,) b = (2, 3)\n",
      "Data type of a = int16 b = float64\n"
     ]
    }
   ],
   "source": [
    "# Dimension\n",
    "print(f'Dimension of a = {a.ndim} b = {b.ndim}')\n",
    "\n",
    "# Shape\n",
    "print(f'Shape of a = {a.shape} b = {b.shape}')\n",
    "\n",
    "# Data type\n",
    "print(f'Data type of a = {a.dtype} b = {b.dtype}')"
   ]
  },
  {
   "cell_type": "markdown",
   "metadata": {
    "id": "-Q75amHl9LcZ"
   },
   "source": [
    "**Element Access**"
   ]
  },
  {
   "cell_type": "code",
   "execution_count": null,
   "metadata": {
    "colab": {
     "base_uri": "https://localhost:8080/"
    },
    "executionInfo": {
     "elapsed": 43,
     "status": "ok",
     "timestamp": 1700899229929,
     "user": {
      "displayName": "Shivam Shah",
      "userId": "12797515641657687538"
     },
     "user_tz": -330
    },
    "id": "tE3hJrf89Vcg",
    "outputId": "a3a44e9d-97b5-4d65-8eb8-c488f843c323"
   },
   "outputs": [
    {
     "name": "stdout",
     "output_type": "stream",
     "text": [
      "[[ 1  2  3  4  5  6  7]\n",
      " [ 8  9 10 11 12 13 14]]\n"
     ]
    }
   ],
   "source": [
    "arr = np.array([\n",
    "    [1, 2, 3, 4, 5, 6, 7],\n",
    "    [8, 9, 10, 11, 12, 13, 14]\n",
    "], dtype='int8')\n",
    "print(arr)"
   ]
  },
  {
   "cell_type": "code",
   "execution_count": null,
   "metadata": {
    "colab": {
     "base_uri": "https://localhost:8080/"
    },
    "executionInfo": {
     "elapsed": 15,
     "status": "ok",
     "timestamp": 1700899785310,
     "user": {
      "displayName": "Shivam Shah",
      "userId": "12797515641657687538"
     },
     "user_tz": -330
    },
    "id": "kisiO5YW9wNz",
    "outputId": "6839e920-e56d-46f0-9b62-27864f72cf3e"
   },
   "outputs": [
    {
     "name": "stdout",
     "output_type": "stream",
     "text": [
      "3\n",
      "[ 8  9 10 11 12 13 14]\n",
      "[ 4 11]\n",
      "[3 4 5 6]\n",
      "[  8 100  10  11  12  13  14]\n"
     ]
    }
   ],
   "source": [
    "# Get a specific element [row, column]\n",
    "print(arr[0,2])\n",
    "\n",
    "# Get a specific row or cloumn, use : (colon) for slicing\n",
    "print(arr[1, :])\n",
    "print(arr[:, 3])\n",
    "\n",
    "# specify full slicing -> [startindex:endindex:stepsize]\n",
    "#-1 for ignoring end index\n",
    "print(arr[0, 2:-1:1])\n",
    "\n",
    "# To ser element\n",
    "arr[1, 1] = 100\n",
    "print(arr[1, :])"
   ]
  },
  {
   "cell_type": "markdown",
   "metadata": {
    "id": "67rMYFp_lwNX"
   },
   "source": [
    "Type of arrays in numpy"
   ]
  },
  {
   "cell_type": "code",
   "execution_count": null,
   "metadata": {
    "colab": {
     "base_uri": "https://localhost:8080/"
    },
    "executionInfo": {
     "elapsed": 416,
     "status": "ok",
     "timestamp": 1700907137601,
     "user": {
      "displayName": "Shivam Shah",
      "userId": "12797515641657687538"
     },
     "user_tz": -330
    },
    "id": "5tqWxYyBlyy4",
    "outputId": "b9c0524d-6c00-43fd-a7a1-4f25147e52cd"
   },
   "outputs": [
    {
     "data": {
      "text/plain": [
       "array([[1, 0],\n",
       "       [0, 1]], dtype=int8)"
      ]
     },
     "execution_count": 6,
     "metadata": {},
     "output_type": "execute_result"
    }
   ],
   "source": [
    "# All zeros\n",
    "np.zeros([6], dtype='int8')\n",
    "np.zeros([4, 3], dtype='int8')\n",
    "np.zeros([3, 3, 3], dtype='int8')\n",
    "\n",
    "# All ones\n",
    "np.ones([3, 3, 3], dtype='int8')\n",
    "\n",
    "# Any other number\n",
    "np.full([2, 2, 2], 88)\n",
    "\n",
    "# Identity matrix\n",
    "np.identity(2, dtype='int8')"
   ]
  },
  {
   "cell_type": "code",
   "execution_count": null,
   "metadata": {
    "colab": {
     "base_uri": "https://localhost:8080/"
    },
    "executionInfo": {
     "elapsed": 11,
     "status": "ok",
     "timestamp": 1700901706429,
     "user": {
      "displayName": "Shivam Shah",
      "userId": "12797515641657687538"
     },
     "user_tz": -330
    },
    "id": "ELsXoesSnqIg",
    "outputId": "88c64695-b2fe-44e7-a81a-09f3e3cc4695"
   },
   "outputs": [
    {
     "data": {
      "text/plain": [
       "array([[16, 18],\n",
       "       [18, 19],\n",
       "       [11, 15]])"
      ]
     },
     "execution_count": 38,
     "metadata": {},
     "output_type": "execute_result"
    }
   ],
   "source": [
    "# Random decimal between 0 and 1\n",
    "np.random.rand(3, 4)\n",
    "\n",
    "# Random decimal integer\n",
    "np.random.randint(10, 20, size=(3, 2))"
   ]
  },
  {
   "cell_type": "code",
   "execution_count": null,
   "metadata": {
    "colab": {
     "base_uri": "https://localhost:8080/"
    },
    "executionInfo": {
     "elapsed": 8,
     "status": "ok",
     "timestamp": 1700907680495,
     "user": {
      "displayName": "Shivam Shah",
      "userId": "12797515641657687538"
     },
     "user_tz": -330
    },
    "id": "K0KC5PuQ_PST",
    "outputId": "0ca6c93f-a767-48b2-e969-fbfe56ef4b42"
   },
   "outputs": [
    {
     "name": "stdout",
     "output_type": "stream",
     "text": [
      "[[1 2 3]\n",
      " [1 2 3]\n",
      " [1 2 3]]\n"
     ]
    }
   ],
   "source": [
    "arr = np.array([[1, 2, 3]])\n",
    "op = np.repeat(arr, 3, axis=0)\n",
    "print(op)"
   ]
  },
  {
   "cell_type": "code",
   "execution_count": null,
   "metadata": {
    "colab": {
     "base_uri": "https://localhost:8080/"
    },
    "executionInfo": {
     "elapsed": 7,
     "status": "ok",
     "timestamp": 1700908013670,
     "user": {
      "displayName": "Shivam Shah",
      "userId": "12797515641657687538"
     },
     "user_tz": -330
    },
    "id": "2-uF8iuvAu78",
    "outputId": "d1244bb5-c8f4-42c9-cc05-f0ecc51b21bb"
   },
   "outputs": [
    {
     "name": "stdout",
     "output_type": "stream",
     "text": [
      "[[1. 1. 1. 1. 1.]\n",
      " [1. 1. 1. 1. 1.]\n",
      " [1. 1. 1. 1. 1.]\n",
      " [1. 1. 1. 1. 1.]\n",
      " [1. 1. 1. 1. 1.]]\n",
      "[[0. 0. 0.]\n",
      " [0. 9. 0.]\n",
      " [0. 0. 0.]]\n",
      "[[1. 1. 1. 1. 1.]\n",
      " [1. 0. 0. 0. 1.]\n",
      " [1. 0. 9. 0. 1.]\n",
      " [1. 0. 0. 0. 1.]\n",
      " [1. 1. 1. 1. 1.]]\n"
     ]
    }
   ],
   "source": [
    "a1 = np.ones((5, 5))\n",
    "print(a1)\n",
    "a2 = np.zeros((3, 3))\n",
    "a2[1, 1] = 9\n",
    "print(a2)\n",
    "a1[1:4, 1:4] = a2\n",
    "print(a1)"
   ]
  },
  {
   "cell_type": "code",
   "execution_count": null,
   "metadata": {
    "colab": {
     "base_uri": "https://localhost:8080/"
    },
    "executionInfo": {
     "elapsed": 9,
     "status": "ok",
     "timestamp": 1700921840405,
     "user": {
      "displayName": "Shivam Shah",
      "userId": "12797515641657687538"
     },
     "user_tz": -330
    },
    "id": "AotXqs7s1U1m",
    "outputId": "99318012-3313-40d0-d6db-006349a4163f"
   },
   "outputs": [
    {
     "name": "stdout",
     "output_type": "stream",
     "text": [
      "[1 2 3]\n",
      "[  1 200   3]\n"
     ]
    }
   ],
   "source": [
    "# Copy of array\n",
    "a = np.array([1, 2, 3])\n",
    "b = a.copy()\n",
    "b[1] = 200\n",
    "print(a)\n",
    "print(b)"
   ]
  },
  {
   "cell_type": "code",
   "execution_count": null,
   "metadata": {
    "colab": {
     "base_uri": "https://localhost:8080/"
    },
    "executionInfo": {
     "elapsed": 531,
     "status": "ok",
     "timestamp": 1700922073576,
     "user": {
      "displayName": "Shivam Shah",
      "userId": "12797515641657687538"
     },
     "user_tz": -330
    },
    "id": "pujC-1aK2JGD",
    "outputId": "ac2e5db5-ffd9-4951-fc53-3ac6d4f4d488"
   },
   "outputs": [
    {
     "name": "stdout",
     "output_type": "stream",
     "text": [
      "[ 1  2  3 -1]\n",
      "[3 4 5 1]\n",
      "[-1  0  1 -3]\n",
      "[ 2  4  6 -2]\n",
      "[ 0.5  1.   1.5 -0.5]\n",
      "[ 0  1  1 -1]\n",
      "[1 0 1 1]\n"
     ]
    }
   ],
   "source": [
    "# Maths - scalar\n",
    "a = np.array([1, 2, 3, -1])\n",
    "print(a)\n",
    "print(a + 2)\n",
    "print(a - 2)\n",
    "print(a * 2)\n",
    "print(a / 2)\n",
    "print(a // 2)\n",
    "print(a % 2)"
   ]
  },
  {
   "cell_type": "code",
   "execution_count": null,
   "metadata": {
    "colab": {
     "base_uri": "https://localhost:8080/"
    },
    "executionInfo": {
     "elapsed": 6,
     "status": "ok",
     "timestamp": 1700922278538,
     "user": {
      "displayName": "Shivam Shah",
      "userId": "12797515641657687538"
     },
     "user_tz": -330
    },
    "id": "5qdAswlV2w7A",
    "outputId": "8dc6ae54-05af-4135-a2ec-2276f4b4f2de"
   },
   "outputs": [
    {
     "data": {
      "text/plain": [
       "array([ 0.84147098,  0.90929743,  0.14112001, -0.84147098])"
      ]
     },
     "execution_count": 21,
     "metadata": {},
     "output_type": "execute_result"
    }
   ],
   "source": [
    "# Maths - vector\n",
    "a = np.array([1, 2, 3, -1])\n",
    "b = np.array([10, 20, 30, -10])\n",
    "\n",
    "a + b\n",
    "a - b\n",
    "a * b\n",
    "a ** 2\n",
    "np.sin(a)"
   ]
  },
  {
   "cell_type": "code",
   "execution_count": null,
   "metadata": {
    "colab": {
     "base_uri": "https://localhost:8080/"
    },
    "executionInfo": {
     "elapsed": 14,
     "status": "ok",
     "timestamp": 1700922959229,
     "user": {
      "displayName": "Shivam Shah",
      "userId": "12797515641657687538"
     },
     "user_tz": -330
    },
    "id": "N1kNXgzo5phy",
    "outputId": "28931332-0c3f-4338-dab7-2de22d23b675"
   },
   "outputs": [
    {
     "name": "stdout",
     "output_type": "stream",
     "text": [
      "[[1. 1. 1.]\n",
      " [1. 1. 1.]]\n",
      "[[2 2]\n",
      " [2 2]\n",
      " [2 2]]\n",
      "[[6. 6.]\n",
      " [6. 6.]]\n"
     ]
    }
   ],
   "source": [
    "# Liner algebra\n",
    "a = np.ones((2, 3))\n",
    "b = np.full((3, 2), 2)\n",
    "\n",
    "print(a)\n",
    "print(b)\n",
    "print(np.matmul(a, b))"
   ]
  },
  {
   "cell_type": "code",
   "execution_count": 20,
   "metadata": {
    "colab": {
     "base_uri": "https://localhost:8080/"
    },
    "executionInfo": {
     "elapsed": 519,
     "status": "ok",
     "timestamp": 1700931653909,
     "user": {
      "displayName": "Shivam Shah",
      "userId": "12797515641657687538"
     },
     "user_tz": -330
    },
    "id": "mMq7xleQWhH_",
    "outputId": "341df2ba-5ddb-440c-bcd5-ac9a5023b6bc"
   },
   "outputs": [
    {
     "name": "stdout",
     "output_type": "stream",
     "text": [
      "[[ 312   23    9   21   10]\n",
      " [   3   54   54  312   44]\n",
      " [  42 2321   50  100   22]]\n"
     ]
    },
    {
     "data": {
      "text/plain": [
       "array([[ True,  True,  True,  True,  True],\n",
       "       [ True, False, False,  True,  True],\n",
       "       [ True,  True, False, False,  True]])"
      ]
     },
     "execution_count": 20,
     "metadata": {},
     "output_type": "execute_result"
    }
   ],
   "source": [
    "# Data reading and advance indexing\n",
    "data = np.genfromtxt('testdata.csv', delimiter=',', dtype='int32')\n",
    "print(data)\n",
    "\n",
    "~((data >= 50) & (data <= 100))"
   ]
  },
  {
   "cell_type": "code",
   "execution_count": 19,
   "metadata": {
    "colab": {
     "base_uri": "https://localhost:8080/"
    },
    "executionInfo": {
     "elapsed": 754,
     "status": "ok",
     "timestamp": 1700931598312,
     "user": {
      "displayName": "Shivam Shah",
      "userId": "12797515641657687538"
     },
     "user_tz": -330
    },
    "id": "TN6Ew9F-YRy3",
    "outputId": "00fd519a-e7af-4621-ba01-65eec9d077d5"
   },
   "outputs": [
    {
     "name": "stdout",
     "output_type": "stream",
     "text": [
      "[[ 1  2  3  4  5]\n",
      " [ 6  7  8  9 10]\n",
      " [11 12 13 14 15]\n",
      " [16 17 18 19 20]\n",
      " [21 22 23 24 25]\n",
      " [27 27 28 29 30]]\n",
      "[[11 12]\n",
      " [16 17]]\n",
      "[ 2  8 14 20]\n",
      "[[ 4  5]\n",
      " [24 25]\n",
      " [29 30]]\n"
     ]
    }
   ],
   "source": [
    "# Exercise\n",
    "arr = np.array([\n",
    "    [1,2,3,4,5],\n",
    "    [6,7,8,9,10],\n",
    "    [11,12,13,14,15],\n",
    "    [16,17,18,19,20],\n",
    "    [21,22,23,24,25],\n",
    "    [27,27,28,29,30]\n",
    "])\n",
    "print(arr)\n",
    "print(arr[2:4, 0:2])\n",
    "print(arr[[0,1,2,3], [1,2,3,4]])\n",
    "print(arr[[0,4,5], 3:])"
   ]
  },
  {
   "cell_type": "code",
   "execution_count": 16,
   "metadata": {},
   "outputs": [
    {
     "data": {
      "image/png": "[encoded data removed]",
      "text/plain": [
       "<Figure size 640x480 with 1 Axes>"
      ]
     },
     "metadata": {},
     "output_type": "display_data"
    }
   ],
   "source": [
    "# Plot sine wave\n",
    "\n",
    "t = np.arange(0.0, 2.0, 0.01)\n",
    "s = 1 + np.sin(10*np.pi*t)\n",
    "\n",
    "fug, ax = plt.subplots()\n",
    "\n",
    "ax.plot(t, s)\n",
    "ax.set(xlabel='time', ylabel='voltage', title='Sine wave')\n",
    "ax.grid()\n"
   ]
  }
 ],
 "metadata": {
  "colab": {
   "authorship_tag": "ABX9TyNRgKt9MX0H61BVTDi7JzEQ",
   "provenance": []
  },
  "kernelspec": {
   "display_name": "Python 3 (ipykernel)",
   "language": "python",
   "name": "python3"
  },
  "language_info": {
   "codemirror_mode": {
    "name": "ipython",
    "version": 3
   },
   "file_extension": ".py",
   "mimetype": "text/x-python",
   "name": "python",
   "nbconvert_exporter": "python",
   "pygments_lexer": "ipython3",
   "version": "3.10.4"
  }
 },
 "nbformat": 4,
 "nbformat_minor": 4
}
